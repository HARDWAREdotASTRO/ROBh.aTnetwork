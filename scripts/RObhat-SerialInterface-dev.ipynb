{
 "cells": [
  {
   "cell_type": "code",
   "execution_count": null,
   "metadata": {
    "collapsed": true
   },
   "outputs": [],
   "source": [
    "from toolz.curried import *\n",
    "import numpy as np\n",
    "import serial\n",
    "\n",
    "\n",
    "import requests\n",
    "import typing\n",
    "# from nanpy import ArduinoApi, SerialManager"
   ]
  },
  {
   "cell_type": "code",
   "execution_count": null,
   "metadata": {
    "collapsed": true
   },
   "outputs": [],
   "source": [
    "con = serial.Serial(\"/dev/ttyACM0\",9600)"
   ]
  },
  {
   "cell_type": "code",
   "execution_count": null,
   "metadata": {},
   "outputs": [],
   "source": [
    "def serialMonitor(con: serial.Serial)->None:\n",
    "    i = 0\n",
    "    while True:\n",
    "        print(f\"{i:>3d} | \\t\"+con.readline().decode(\"utf-8\"))\n",
    "        i += 1\n",
    "        i = i%999"
   ]
  },
  {
   "cell_type": "code",
   "execution_count": null,
   "metadata": {},
   "outputs": [],
   "source": [
    "def sendMessage(con: serial.Serial, message: typing.Text) -> None:\n",
    "    if not(con.is_open):\n",
    "        try:\n",
    "            con.open()\n",
    "        except:\n",
    "            raise serial.SerialException(\"Bad Serial Connection Object\")\n",
    "    con.write(message.encode(\"ascii\"))"
   ]
  },
  {
   "cell_type": "code",
   "execution_count": null,
   "metadata": {},
   "outputs": [],
   "source": [
    "sendMessage(con,\"onAF\")"
   ]
  },
  {
   "cell_type": "code",
   "execution_count": null,
   "metadata": {},
   "outputs": [],
   "source": [
    "if con.in_waiting >8:\n",
    "    con.flush()"
   ]
  },
  {
   "cell_type": "code",
   "execution_count": null,
   "metadata": {},
   "outputs": [],
   "source": [
    "print(f\"{i:0>3d} | \\t\"+con.readline().decode(\"utf-8\"))"
   ]
  },
  {
   "cell_type": "code",
   "execution_count": null,
   "metadata": {
    "collapsed": true
   },
   "outputs": [],
   "source": []
  }
 ],
 "metadata": {
  "kernelspec": {
   "display_name": "Python 3",
   "language": "python",
   "name": "python3"
  },
  "language_info": {
   "codemirror_mode": {
    "name": "ipython",
    "version": 3
   },
   "file_extension": ".py",
   "mimetype": "text/x-python",
   "name": "python",
   "nbconvert_exporter": "python",
   "pygments_lexer": "ipython3",
   "version": "3.6.1"
  }
 },
 "nbformat": 4,
 "nbformat_minor": 2
}
