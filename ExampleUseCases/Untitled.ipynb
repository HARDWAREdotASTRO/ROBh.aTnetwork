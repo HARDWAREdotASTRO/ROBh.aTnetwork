{
 "cells": [
  {
   "cell_type": "code",
   "execution_count": 16,
   "metadata": {
    "ExecuteTime": {
     "end_time": "2017-08-08T13:51:32.352172Z",
     "start_time": "2017-08-08T13:51:32.347172Z"
    },
    "collapsed": false
   },
   "outputs": [],
   "source": [
    "import Robhat"
   ]
  },
  {
   "cell_type": "code",
   "execution_count": 15,
   "metadata": {
    "ExecuteTime": {
     "end_time": "2017-08-08T13:50:54.637195Z",
     "start_time": "2017-08-08T13:50:54.626197Z"
    },
    "collapsed": false
   },
   "outputs": [
    {
     "data": {
      "text/plain": [
       "['Any',\n",
       " 'Callable',\n",
       " 'Control',\n",
       " 'Data',\n",
       " 'Dict',\n",
       " 'List',\n",
       " 'Macros',\n",
       " 'NewType',\n",
       " 'Sensors',\n",
       " 'Text',\n",
       " 'Tuple',\n",
       " 'UI',\n",
       " 'Union',\n",
       " '__builtins__',\n",
       " '__cached__',\n",
       " '__doc__',\n",
       " '__file__',\n",
       " '__loader__',\n",
       " '__name__',\n",
       " '__package__',\n",
       " '__spec__',\n",
       " 'aj',\n",
       " 'appGetBearing',\n",
       " 'ceil',\n",
       " 'cmd',\n",
       " 'configparser',\n",
       " 'demo',\n",
       " 'get',\n",
       " 'merge',\n",
       " 'motorStatusMonitor',\n",
       " 'readConfig',\n",
       " 'scipy']"
      ]
     },
     "execution_count": 15,
     "metadata": {},
     "output_type": "execute_result"
    }
   ],
   "source": [
    "dir(Robhat.Dome.Dome)"
   ]
  },
  {
   "cell_type": "code",
   "execution_count": 5,
   "metadata": {
    "ExecuteTime": {
     "end_time": "2017-08-08T13:49:46.434432Z",
     "start_time": "2017-08-08T13:49:46.422432Z"
    },
    "collapsed": false
   },
   "outputs": [
    {
     "data": {
      "text/plain": [
       "['Any',\n",
       " 'Callable',\n",
       " 'Control',\n",
       " 'Dict',\n",
       " 'List',\n",
       " 'NewType',\n",
       " 'Sensors',\n",
       " 'Text',\n",
       " 'Tuple',\n",
       " 'UI',\n",
       " 'Union',\n",
       " '__builtins__',\n",
       " '__cached__',\n",
       " '__doc__',\n",
       " '__file__',\n",
       " '__loader__',\n",
       " '__name__',\n",
       " '__package__',\n",
       " '__spec__',\n",
       " 'aj',\n",
       " 'curry',\n",
       " 'get',\n",
       " 'np',\n",
       " 'os',\n",
       " 'serial',\n",
       " 'threading']"
      ]
     },
     "execution_count": 5,
     "metadata": {},
     "output_type": "execute_result"
    }
   ],
   "source": [
    "dir(Robhat.Dome.Macros)"
   ]
  },
  {
   "cell_type": "code",
   "execution_count": 8,
   "metadata": {
    "ExecuteTime": {
     "end_time": "2017-08-08T13:50:03.574878Z",
     "start_time": "2017-08-08T13:50:03.565883Z"
    },
    "collapsed": false
   },
   "outputs": [
    {
     "data": {
      "text/plain": [
       "['Any',\n",
       " 'Callable',\n",
       " 'Control',\n",
       " 'Data',\n",
       " 'Dict',\n",
       " 'List',\n",
       " 'Macros',\n",
       " 'NewType',\n",
       " 'Sensors',\n",
       " 'Text',\n",
       " 'Tuple',\n",
       " 'UI',\n",
       " 'Union',\n",
       " '__builtins__',\n",
       " '__cached__',\n",
       " '__doc__',\n",
       " '__file__',\n",
       " '__loader__',\n",
       " '__name__',\n",
       " '__package__',\n",
       " '__spec__',\n",
       " 'aj',\n",
       " 'appGetBearing',\n",
       " 'ceil',\n",
       " 'cmd',\n",
       " 'configparser',\n",
       " 'demo',\n",
       " 'get',\n",
       " 'merge',\n",
       " 'motorStatusMonitor',\n",
       " 'readConfig',\n",
       " 'scipy']"
      ]
     },
     "execution_count": 8,
     "metadata": {},
     "output_type": "execute_result"
    }
   ],
   "source": [
    "dir(Robhat.Dome)"
   ]
  },
  {
   "cell_type": "code",
   "execution_count": null,
   "metadata": {
    "collapsed": true
   },
   "outputs": [],
   "source": []
  }
 ],
 "metadata": {
  "kernelspec": {
   "display_name": "Python (3.6)",
   "language": "python",
   "name": "python3"
  },
  "language_info": {
   "codemirror_mode": {
    "name": "ipython",
    "version": 3
   },
   "file_extension": ".py",
   "mimetype": "text/x-python",
   "name": "python",
   "nbconvert_exporter": "python",
   "pygments_lexer": "ipython3",
   "version": "3.6.2"
  },
  "varInspector": {
   "cols": {
    "lenName": 16,
    "lenType": 16,
    "lenVar": 40
   },
   "kernels_config": {
    "python": {
     "delete_cmd_postfix": "",
     "delete_cmd_prefix": "del ",
     "library": "var_list.py",
     "varRefreshCmd": "print(var_dic_list())"
    },
    "r": {
     "delete_cmd_postfix": ") ",
     "delete_cmd_prefix": "rm(",
     "library": "var_list.r",
     "varRefreshCmd": "cat(var_dic_list()) "
    }
   },
   "types_to_exclude": [
    "module",
    "function",
    "builtin_function_or_method",
    "instance",
    "_Feature"
   ],
   "window_display": false
  }
 },
 "nbformat": 4,
 "nbformat_minor": 2
}
