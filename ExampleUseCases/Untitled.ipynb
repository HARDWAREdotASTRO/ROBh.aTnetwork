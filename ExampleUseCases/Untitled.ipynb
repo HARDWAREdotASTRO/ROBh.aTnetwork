{
 "cells": [
  {
   "cell_type": "code",
   "execution_count": 1,
   "metadata": {
    "ExecuteTime": {
     "end_time": "2017-06-28T18:44:21.107483Z",
     "start_time": "2017-06-28T18:44:21.091486Z"
    },
    "collapsed": true
   },
   "outputs": [],
   "source": [
    "import PyCmdMessenger"
   ]
  },
  {
   "cell_type": "code",
   "execution_count": 20,
   "metadata": {
    "ExecuteTime": {
     "end_time": "2017-06-28T19:34:53.003720Z",
     "start_time": "2017-06-28T19:34:50.972680Z"
    }
   },
   "outputs": [
    {
     "name": "stdout",
     "output_type": "stream",
     "text": [
      "Connecting to arduino on COM3... done.\n"
     ]
    }
   ],
   "source": [
    "# Initialize an ArduinoBoard instance.  This is where you specify baud rate and\n",
    "# serial timeout.  If you are using a non ATmega328 board, you might also need\n",
    "# to set the data sizes (bytes for integers, longs, floats, and doubles).  \n",
    "arduino = PyCmdMessenger.ArduinoBoard(\"COM3\",baud_rate=9600)\n",
    "\n",
    "# List of command names (and formats for their associated arguments). These must\n",
    "# be in the same order as in the sketch.\n",
    "commands = [[\"MotorOn\",\"ssi\"],\n",
    "            [\"MotorOff\",\"s\"],\n",
    "            [\"Status\",\"s*\"],\n",
    "            [\"kAcknowledge\",\"s*\"],\n",
    "            [\"kError\",\"s\"]]\n",
    "\n",
    "# Initialize the messenger\n",
    "c = PyCmdMessenger.CmdMessenger(arduino,commands)\n"
   ]
  },
  {
   "cell_type": "code",
   "execution_count": 22,
   "metadata": {
    "ExecuteTime": {
     "end_time": "2017-06-28T19:35:00.870871Z",
     "start_time": "2017-06-28T19:35:00.851872Z"
    }
   },
   "outputs": [
    {
     "name": "stdout",
     "output_type": "stream",
     "text": [
      "('unknown', ['A', 'OFF', 'B', 'OFF'], 1498678500.8638787)\n"
     ]
    },
    {
     "name": "stderr",
     "output_type": "stream",
     "text": [
      "C:\\Anaconda3\\lib\\site-packages\\PyCmdMessenger\\PyCmdMessenger.py:256: Warning: Recieved unrecognized command (Button AF:\t 0\r\n",
      "Button AR:\t 0\r\n",
      "Button BF:\t 0\r\n",
      "Button BR:\t 0\r\n",
      "2).\n",
      "  warnings.warn(w,Warning)\n"
     ]
    }
   ],
   "source": [
    "# Send\n",
    "# c.send(\"MotorOn\",\"A\", \"F\", 9999)\n",
    "c.send(\"Status\")\n",
    "# Receive. Should give [\"my_name_is\",[\"Bob\"],TIME_RECIEVED]\n",
    "msg = c.receive(arg_formats=\"s*\")\n",
    "print(msg)\n",
    "\n",
    "# # Send with multiple parameters\n",
    "# c.send(\"sum_two_ints\",4,1)\n",
    "# msg = c.receive()\n",
    "\n",
    "# # should give [\"sum_is\",[5],TIME_RECEIVED]\n",
    "# print(msg)"
   ]
  },
  {
   "cell_type": "code",
   "execution_count": 23,
   "metadata": {
    "ExecuteTime": {
     "end_time": "2017-06-28T19:47:26.839403Z",
     "start_time": "2017-06-28T19:47:26.831431Z"
    }
   },
   "outputs": [],
   "source": [
    "arduino.close()"
   ]
  },
  {
   "cell_type": "code",
   "execution_count": 9,
   "metadata": {
    "ExecuteTime": {
     "end_time": "2017-06-28T18:58:56.528577Z",
     "start_time": "2017-06-28T18:58:56.516577Z"
    }
   },
   "outputs": [
    {
     "data": {
      "text/plain": [
       "['__class__',\n",
       " '__delattr__',\n",
       " '__dict__',\n",
       " '__dir__',\n",
       " '__doc__',\n",
       " '__eq__',\n",
       " '__format__',\n",
       " '__ge__',\n",
       " '__getattribute__',\n",
       " '__gt__',\n",
       " '__hash__',\n",
       " '__init__',\n",
       " '__init_subclass__',\n",
       " '__le__',\n",
       " '__lt__',\n",
       " '__module__',\n",
       " '__ne__',\n",
       " '__new__',\n",
       " '__reduce__',\n",
       " '__reduce_ex__',\n",
       " '__repr__',\n",
       " '__setattr__',\n",
       " '__sizeof__',\n",
       " '__str__',\n",
       " '__subclasshook__',\n",
       " '__weakref__',\n",
       " '_byte_command_sep',\n",
       " '_byte_escape_sep',\n",
       " '_byte_field_sep',\n",
       " '_cmd_name_to_format',\n",
       " '_cmd_name_to_int',\n",
       " '_escape_re',\n",
       " '_escaped_characters',\n",
       " '_int_to_cmd_name',\n",
       " '_null_escape_re',\n",
       " '_recv_bool',\n",
       " '_recv_byte',\n",
       " '_recv_char',\n",
       " '_recv_double',\n",
       " '_recv_float',\n",
       " '_recv_guess',\n",
       " '_recv_int',\n",
       " '_recv_long',\n",
       " '_recv_methods',\n",
       " '_recv_string',\n",
       " '_recv_unsigned_int',\n",
       " '_recv_unsigned_long',\n",
       " '_send_bool',\n",
       " '_send_byte',\n",
       " '_send_char',\n",
       " '_send_double',\n",
       " '_send_float',\n",
       " '_send_guess',\n",
       " '_send_int',\n",
       " '_send_long',\n",
       " '_send_methods',\n",
       " '_send_string',\n",
       " '_send_unsigned_int',\n",
       " '_send_unsigned_long',\n",
       " '_treat_star_format',\n",
       " 'board',\n",
       " 'command_separator',\n",
       " 'commands',\n",
       " 'escape_separator',\n",
       " 'field_separator',\n",
       " 'give_warnings',\n",
       " 'receive',\n",
       " 'send']"
      ]
     },
     "execution_count": 9,
     "metadata": {},
     "output_type": "execute_result"
    }
   ],
   "source": [
    "dir(c)"
   ]
  },
  {
   "cell_type": "code",
   "execution_count": 10,
   "metadata": {
    "ExecuteTime": {
     "end_time": "2017-06-28T18:59:11.199055Z",
     "start_time": "2017-06-28T18:59:11.185054Z"
    }
   },
   "outputs": [
    {
     "name": "stderr",
     "output_type": "stream",
     "text": [
      "C:\\Anaconda3\\lib\\site-packages\\PyCmdMessenger\\PyCmdMessenger.py:256: Warning: Recieved unrecognized command (Button AF:\t 0\r\n",
      "Button AR:\t 0\r\n",
      "Button BF:\t 0\r\n",
      "Button BR:\t 0\r\n",
      "2).\n",
      "  warnings.warn(w,Warning)\n",
      "C:\\Anaconda3\\lib\\site-packages\\PyCmdMessenger\\PyCmdMessenger.py:622: Warning: Warning: Guessing input format for b'A'. This can give wildly incorrect values. Consider specifying a format and sending binary data.\n",
      "  warnings.warn(w,Warning)\n",
      "C:\\Anaconda3\\lib\\site-packages\\PyCmdMessenger\\PyCmdMessenger.py:622: Warning: Warning: Guessing input format for b'OFF'. This can give wildly incorrect values. Consider specifying a format and sending binary data.\n",
      "  warnings.warn(w,Warning)\n",
      "C:\\Anaconda3\\lib\\site-packages\\PyCmdMessenger\\PyCmdMessenger.py:622: Warning: Warning: Guessing input format for b'B'. This can give wildly incorrect values. Consider specifying a format and sending binary data.\n",
      "  warnings.warn(w,Warning)\n"
     ]
    },
    {
     "data": {
      "text/plain": [
       "('unknown', ['A', 'OFF', 'B', 'OFF'], 1498676351.1910572)"
      ]
     },
     "execution_count": 10,
     "metadata": {},
     "output_type": "execute_result"
    }
   ],
   "source": [
    "def listen(identifier, streamCallingFunction):\n",
    "    message = streamCallingFunction().decode"
   ]
  },
  {
   "cell_type": "code",
   "execution_count": 11,
   "metadata": {
    "ExecuteTime": {
     "end_time": "2017-06-28T18:59:21.633391Z",
     "start_time": "2017-06-28T18:59:21.623391Z"
    }
   },
   "outputs": [
    {
     "data": {
      "text/plain": [
       "['__class__',\n",
       " '__delattr__',\n",
       " '__dict__',\n",
       " '__dir__',\n",
       " '__doc__',\n",
       " '__eq__',\n",
       " '__format__',\n",
       " '__ge__',\n",
       " '__getattribute__',\n",
       " '__gt__',\n",
       " '__hash__',\n",
       " '__init__',\n",
       " '__init_subclass__',\n",
       " '__le__',\n",
       " '__lt__',\n",
       " '__module__',\n",
       " '__ne__',\n",
       " '__new__',\n",
       " '__reduce__',\n",
       " '__reduce_ex__',\n",
       " '__repr__',\n",
       " '__setattr__',\n",
       " '__sizeof__',\n",
       " '__str__',\n",
       " '__subclasshook__',\n",
       " '__weakref__',\n",
       " '_is_connected',\n",
       " 'baud_rate',\n",
       " 'close',\n",
       " 'comm',\n",
       " 'connected',\n",
       " 'device',\n",
       " 'double_bytes',\n",
       " 'double_max',\n",
       " 'double_min',\n",
       " 'double_type',\n",
       " 'dtr',\n",
       " 'enable_dtr',\n",
       " 'float_bytes',\n",
       " 'float_max',\n",
       " 'float_min',\n",
       " 'float_type',\n",
       " 'int_bytes',\n",
       " 'int_max',\n",
       " 'int_min',\n",
       " 'int_type',\n",
       " 'long_bytes',\n",
       " 'long_max',\n",
       " 'long_min',\n",
       " 'long_type',\n",
       " 'open',\n",
       " 'read',\n",
       " 'readline',\n",
       " 'settle_time',\n",
       " 'timeout',\n",
       " 'unsigned_int_max',\n",
       " 'unsigned_int_min',\n",
       " 'unsigned_int_type',\n",
       " 'unsigned_long_max',\n",
       " 'unsigned_long_min',\n",
       " 'unsigned_long_type',\n",
       " 'write']"
      ]
     },
     "execution_count": 11,
     "metadata": {},
     "output_type": "execute_result"
    }
   ],
   "source": [
    "dir(arduino)"
   ]
  },
  {
   "cell_type": "code",
   "execution_count": null,
   "metadata": {
    "ExecuteTime": {
     "end_time": "2017-06-28T19:00:18.436220Z",
     "start_time": "2017-06-28T19:00:09.976949Z"
    }
   },
   "outputs": [],
   "source": []
  },
  {
   "cell_type": "code",
   "execution_count": null,
   "metadata": {
    "collapsed": true
   },
   "outputs": [],
   "source": []
  }
 ],
 "metadata": {
  "kernelspec": {
   "display_name": "Python (3.6)",
   "language": "python",
   "name": "python3"
  },
  "language_info": {
   "codemirror_mode": {
    "name": "ipython",
    "version": 3
   },
   "file_extension": ".py",
   "mimetype": "text/x-python",
   "name": "python",
   "nbconvert_exporter": "python",
   "pygments_lexer": "ipython3",
   "version": "3.6.1"
  },
  "varInspector": {
   "cols": {
    "lenName": 16,
    "lenType": 16,
    "lenVar": 40
   },
   "kernels_config": {
    "python": {
     "delete_cmd_postfix": "",
     "delete_cmd_prefix": "del ",
     "library": "var_list.py",
     "varRefreshCmd": "print(var_dic_list())"
    },
    "r": {
     "delete_cmd_postfix": ") ",
     "delete_cmd_prefix": "rm(",
     "library": "var_list.r",
     "varRefreshCmd": "cat(var_dic_list()) "
    }
   },
   "types_to_exclude": [
    "module",
    "function",
    "builtin_function_or_method",
    "instance",
    "_Feature"
   ],
   "window_display": false
  }
 },
 "nbformat": 4,
 "nbformat_minor": 2
}
