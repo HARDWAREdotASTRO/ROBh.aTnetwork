{
 "cells": [
  {
   "cell_type": "code",
   "execution_count": 1,
   "metadata": {
    "ExecuteTime": {
     "end_time": "2017-07-21T15:01:28.626317Z",
     "start_time": "2017-07-21T15:01:28.504325Z"
    },
    "collapsed": false,
    "deletable": true,
    "editable": true
   },
   "outputs": [],
   "source": [
    "import Robhat.Dome as Dome\n",
    "import os\n",
    "import sys\n",
    "import threading\n",
    "from time import sleep"
   ]
  },
  {
   "cell_type": "code",
   "execution_count": 2,
   "metadata": {
    "ExecuteTime": {
     "end_time": "2017-07-21T15:01:30.650369Z",
     "start_time": "2017-07-21T15:01:30.641384Z"
    },
    "collapsed": true,
    "deletable": true,
    "editable": true
   },
   "outputs": [],
   "source": [
    "Config = Dome.readConfig(configFile=\"./.config\")\n",
    "Port = Config[\"SerialPort\"]\n",
    "BaudRate= Config[\"BaudRate\"]\n",
    "PollTime = Config[\"PollTime\"]"
   ]
  },
  {
   "cell_type": "code",
   "execution_count": 3,
   "metadata": {
    "ExecuteTime": {
     "end_time": "2017-07-21T15:01:34.685263Z",
     "start_time": "2017-07-21T15:01:32.675560Z"
    },
    "collapsed": false,
    "deletable": true,
    "editable": true
   },
   "outputs": [
    {
     "name": "stdout",
     "output_type": "stream",
     "text": [
      "Connecting to arduino on COM3... done.\n"
     ]
    }
   ],
   "source": [
    "arduino = Dome.Control.startBoard(Port, BaudRate)\n",
    "messenger = Dome.Control.startMessenger(arduino, Dome.Control.COMMANDS)"
   ]
  },
  {
   "cell_type": "code",
   "execution_count": 4,
   "metadata": {
    "ExecuteTime": {
     "end_time": "2017-07-21T15:01:39.173219Z",
     "start_time": "2017-07-21T15:01:37.474618Z"
    },
    "collapsed": false,
    "deletable": true,
    "editable": true
   },
   "outputs": [
    {
     "data": {
      "text/plain": [
       "('kAck', ['B', 'F', '1000'], 1500667299.1682155)"
      ]
     },
     "execution_count": 4,
     "metadata": {},
     "output_type": "execute_result"
    }
   ],
   "source": [
    "res = Dome.Control.sendCommand(messenger, \"kMotorOn\", \"B\", \"F\", 1000)\n",
    "res"
   ]
  },
  {
   "cell_type": "code",
   "execution_count": 9,
   "metadata": {
    "ExecuteTime": {
     "end_time": "2017-07-21T11:40:38.548772Z",
     "start_time": "2017-07-21T11:40:38.539771Z"
    },
    "collapsed": false,
    "deletable": true,
    "editable": true
   },
   "outputs": [
    {
     "name": "stdout",
     "output_type": "stream",
     "text": [
      "('kAck', ['B', 'R', '1000'], 1500655238.544776)\n"
     ]
    }
   ],
   "source": [
    "messenger.send(\"kMotorOn\", \"B\", \"R\", PollTime)\n",
    "# sleep(5/1000)\n",
    "response = messenger.receive()\n",
    "print(response)"
   ]
  },
  {
   "cell_type": "code",
   "execution_count": null,
   "metadata": {
    "ExecuteTime": {
     "end_time": "2017-07-21T11:25:05.029052Z",
     "start_time": "2017-07-21T11:25:05.021051Z"
    },
    "collapsed": false,
    "deletable": true,
    "editable": true
   },
   "outputs": [],
   "source": [
    "# response = messenger.receive(\"kAck\")\n",
    "response"
   ]
  },
  {
   "cell_type": "code",
   "execution_count": 5,
   "metadata": {
    "ExecuteTime": {
     "end_time": "2017-07-21T15:03:07.175445Z",
     "start_time": "2017-07-21T15:03:06.942421Z"
    },
    "collapsed": false,
    "deletable": true,
    "editable": true
   },
   "outputs": [
    {
     "name": "stdout",
     "output_type": "stream",
     "text": [
      "('kAck', ['A', 'OFF', 'B', 'OFF'], 1500667387.1704428)\n"
     ]
    }
   ],
   "source": [
    "messenger.send(\"kStatus\")\n",
    "response = messenger.receive()\n",
    "print(response)"
   ]
  },
  {
   "cell_type": "code",
   "execution_count": 12,
   "metadata": {
    "ExecuteTime": {
     "end_time": "2017-07-21T11:50:29.672057Z",
     "start_time": "2017-07-21T11:50:29.666055Z"
    },
    "collapsed": true,
    "deletable": true,
    "editable": true
   },
   "outputs": [],
   "source": [
    "arduino.close()"
   ]
  },
  {
   "cell_type": "code",
   "execution_count": null,
   "metadata": {
    "ExecuteTime": {
     "end_time": "2017-07-20T12:12:12.910011Z",
     "start_time": "2017-07-20T12:12:12.903509Z"
    },
    "collapsed": true,
    "deletable": true,
    "editable": true
   },
   "outputs": [],
   "source": [
    "response = messenger.receive()"
   ]
  },
  {
   "cell_type": "code",
   "execution_count": null,
   "metadata": {
    "ExecuteTime": {
     "end_time": "2017-07-20T12:12:15.649737Z",
     "start_time": "2017-07-20T12:12:15.637739Z"
    },
    "collapsed": false,
    "deletable": true,
    "editable": true
   },
   "outputs": [],
   "source": [
    "response"
   ]
  },
  {
   "cell_type": "code",
   "execution_count": null,
   "metadata": {
    "collapsed": true
   },
   "outputs": [],
   "source": []
  }
 ],
 "metadata": {
  "kernelspec": {
   "display_name": "Python (3.6)",
   "language": "python",
   "name": "python3"
  },
  "varInspector": {
   "cols": {
    "lenName": 16,
    "lenType": 16,
    "lenVar": 40
   },
   "kernels_config": {
    "python": {
     "delete_cmd_postfix": "",
     "delete_cmd_prefix": "del ",
     "library": "var_list.py",
     "varRefreshCmd": "print(var_dic_list())"
    },
    "r": {
     "delete_cmd_postfix": ") ",
     "delete_cmd_prefix": "rm(",
     "library": "var_list.r",
     "varRefreshCmd": "cat(var_dic_list()) "
    }
   },
   "types_to_exclude": [
    "module",
    "function",
    "builtin_function_or_method",
    "instance",
    "_Feature"
   ],
   "window_display": false
  }
 },
 "nbformat": 4,
 "nbformat_minor": 2
}
