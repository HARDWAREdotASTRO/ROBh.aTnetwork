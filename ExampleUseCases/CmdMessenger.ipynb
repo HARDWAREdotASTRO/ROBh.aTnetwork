{
 "cells": [
  {
   "cell_type": "code",
   "execution_count": 2,
   "metadata": {
    "ExecuteTime": {
     "end_time": "2017-08-01T10:10:20.254217Z",
     "start_time": "2017-08-01T10:10:19.078878Z"
    },
    "collapsed": false,
    "deletable": true,
    "editable": true
   },
   "outputs": [],
   "source": [
    "%load_ext coconut\n",
    "# Coconut introduces nice functional macros and better map, filter, reduce, etc.\n",
    "import PyCmdMessenger\n",
    "from toolz.curried import *\n",
    "op = operator\n",
    "from copy import copy, deepcopy\n",
    "import sys\n",
    "\n",
    "from typing import *\n"
   ]
  },
  {
   "cell_type": "code",
   "execution_count": 6,
   "metadata": {
    "ExecuteTime": {
     "end_time": "2017-08-01T10:11:01.985810Z",
     "start_time": "2017-08-01T10:10:59.968518Z"
    },
    "collapsed": false,
    "deletable": true,
    "editable": true
   },
   "outputs": [
    {
     "name": "stdout",
     "output_type": "stream",
     "text": [
      "Connecting to arduino on COM10... done.\n"
     ]
    }
   ],
   "source": [
    "# Initialize an ArduinoBoard instance.  This is where you specify baud rate and\n",
    "# serial timeout.  If you are using a non ATmega328 board, you might also need\n",
    "# to set the data sizes (bytes for integers, longs, floats, and doubles).  \n",
    "arduino = PyCmdMessenger.ArduinoBoard(\"COM10\",baud_rate=115200, enable_dtr=False)\n",
    "\n",
    "# List of command names (and formats for their associated arguments). These must\n",
    "# be in the same order as in the sketch.\n",
    "COMMANDS = [[\"kMotorOn\",\"ssi\"],\n",
    "            [\"kMotorStayOn\", \"ss\"],\n",
    "            [\"kMotorOff\",\"s\"],\n",
    "            [\"kStatus\",\"s*\"],\n",
    "            [\"kAck\",\"s*\"],\n",
    "            [\"kError\",\"s*\"],\n",
    "            [\"kLogging\", \"s*\"]]\n",
    "\n",
    "# Initialize the messenger\n",
    "c = PyCmdMessenger.CmdMessenger(arduino,COMMANDS)\n"
   ]
  },
  {
   "cell_type": "code",
   "execution_count": 22,
   "metadata": {
    "ExecuteTime": {
     "end_time": "2017-08-01T10:16:11.582352Z",
     "start_time": "2017-08-01T10:16:11.540349Z"
    },
    "collapsed": true,
    "deletable": true,
    "editable": true
   },
   "outputs": [],
   "source": [
    "from typing import *\n",
    "from toolz.sandbox.core import unzip\n",
    "from toolz.curried import *\n",
    "cmd = PyCmdMessenger\n",
    "\n",
    "def listen(Messenger: cmd.PyCmdMessenger.CmdMessenger, messageIdentifier: Text, *rest, arg_format: Text = None, tries: int = 250) -> Any:\n",
    "    \"\"\" Listens for a specific type of response message\"\"\"\n",
    "    try:\n",
    "        assert any([messageIdentifier in command for command in Messenger.commands])\n",
    "        pass\n",
    "    except:\n",
    "        raise ValueError(\"Message identifier must be a valid command identifier for the Messenger\")\n",
    "    while True:\n",
    "        if arg_format is not None:\n",
    "            message = Messenger.receive(arg_formats=arg_format)\n",
    "        else:\n",
    "            message = Messenger.receive()\n",
    "\n",
    "        if type(message) in [list, tuple] and message is not None:\n",
    "            if message[0] == messageIdentifier:\n",
    "                return message\n",
    "            else:\n",
    "                continue\n",
    "\n",
    "\n",
    "# def getLogs(Messenger: cmd.PyCmdMessenger.CmdMessenger) -> Text:\n",
    "#     \"\"\"Yields the logs from the CmdMessenger\"\"\"\n",
    "#     while True:\n",
    "#         yield from listen(Messenger, \"kLogging\")\n",
    "\n",
    "\n",
    "def sendCommand(Messenger: cmd.PyCmdMessenger, messageIdentifier: Text, *args) -> Any:\n",
    "    \"\"\"Sends a command and returns the response\"\"\"\n",
    "    Messenger.send(messageIdentifier, *args)\n",
    "    if messageIdentifier in [command for command in list(unzip(COMMANDS)[0])]:\n",
    "        response = listen(Messenger, \"kAck\", \"s*\")\n",
    "    else:\n",
    "        response = listen(Messenger, \"kError\", \"s*\")\n",
    "    return response\n"
   ]
  },
  {
   "cell_type": "code",
   "execution_count": 11,
   "metadata": {
    "ExecuteTime": {
     "end_time": "2017-08-01T10:12:23.931159Z",
     "start_time": "2017-08-01T10:12:23.009877Z"
    },
    "collapsed": false,
    "deletable": true,
    "editable": true
   },
   "outputs": [
    {
     "name": "stdout",
     "output_type": "stream",
     "text": [
      "('kAck', ['A', 'OFF', 'B', 'OFF'], 1501600343.9261568)\n"
     ]
    }
   ],
   "source": [
    "# Send\n",
    "# c.send(\"MotorOn\",\"A\", \"F\", 9999)\n",
    "c.send(\"kStatus\")\n",
    "# Receive. Should give [\"my_name_is\",[\"Bob\"],TIME_RECIEVED]\n",
    "msg = c.receive(arg_formats=\"s*\")\n",
    "print(msg)\n"
   ]
  },
  {
   "cell_type": "code",
   "execution_count": 12,
   "metadata": {
    "ExecuteTime": {
     "end_time": "2017-08-01T10:12:49.927096Z",
     "start_time": "2017-08-01T10:12:49.921092Z"
    },
    "collapsed": true,
    "deletable": true,
    "editable": true
   },
   "outputs": [],
   "source": [
    "c.send(\"kMotorStayOn\", \"A\", \"F\")"
   ]
  },
  {
   "cell_type": "code",
   "execution_count": 13,
   "metadata": {
    "ExecuteTime": {
     "end_time": "2017-08-01T10:13:16.170440Z",
     "start_time": "2017-08-01T10:13:16.164448Z"
    },
    "collapsed": true,
    "deletable": true,
    "editable": true
   },
   "outputs": [],
   "source": [
    "c.send(\"kMotorOff\",\"A\")"
   ]
  },
  {
   "cell_type": "code",
   "execution_count": 25,
   "metadata": {
    "ExecuteTime": {
     "end_time": "2017-08-01T10:16:45.625671Z",
     "start_time": "2017-08-01T10:16:45.619669Z"
    },
    "collapsed": false,
    "deletable": true,
    "editable": true
   },
   "outputs": [],
   "source": [
    "msg = sendCommand(c, \"kMotorStayOn\", \"A\", \"F\")"
   ]
  },
  {
   "cell_type": "code",
   "execution_count": 34,
   "metadata": {
    "ExecuteTime": {
     "end_time": "2017-08-01T10:17:26.686637Z",
     "start_time": "2017-08-01T10:17:26.676641Z"
    },
    "collapsed": false
   },
   "outputs": [
    {
     "data": {
      "text/plain": [
       "['__class__',\n",
       " '__delattr__',\n",
       " '__dict__',\n",
       " '__dir__',\n",
       " '__doc__',\n",
       " '__eq__',\n",
       " '__format__',\n",
       " '__ge__',\n",
       " '__getattribute__',\n",
       " '__gt__',\n",
       " '__hash__',\n",
       " '__init__',\n",
       " '__init_subclass__',\n",
       " '__le__',\n",
       " '__lt__',\n",
       " '__module__',\n",
       " '__ne__',\n",
       " '__new__',\n",
       " '__reduce__',\n",
       " '__reduce_ex__',\n",
       " '__repr__',\n",
       " '__setattr__',\n",
       " '__sizeof__',\n",
       " '__str__',\n",
       " '__subclasshook__',\n",
       " '__weakref__',\n",
       " '_is_connected',\n",
       " 'baud_rate',\n",
       " 'close',\n",
       " 'comm',\n",
       " 'connected',\n",
       " 'device',\n",
       " 'double_bytes',\n",
       " 'double_max',\n",
       " 'double_min',\n",
       " 'double_type',\n",
       " 'dtr',\n",
       " 'enable_dtr',\n",
       " 'float_bytes',\n",
       " 'float_max',\n",
       " 'float_min',\n",
       " 'float_type',\n",
       " 'int_bytes',\n",
       " 'int_max',\n",
       " 'int_min',\n",
       " 'int_type',\n",
       " 'long_bytes',\n",
       " 'long_max',\n",
       " 'long_min',\n",
       " 'long_type',\n",
       " 'open',\n",
       " 'read',\n",
       " 'readline',\n",
       " 'settle_time',\n",
       " 'timeout',\n",
       " 'unsigned_int_max',\n",
       " 'unsigned_int_min',\n",
       " 'unsigned_int_type',\n",
       " 'unsigned_long_max',\n",
       " 'unsigned_long_min',\n",
       " 'unsigned_long_type',\n",
       " 'write']"
      ]
     },
     "execution_count": 34,
     "metadata": {},
     "output_type": "execute_result"
    }
   ],
   "source": [
    "dir(arduino)"
   ]
  },
  {
   "cell_type": "code",
   "execution_count": 36,
   "metadata": {
    "ExecuteTime": {
     "end_time": "2017-08-01T10:18:04.942649Z",
     "start_time": "2017-08-01T10:18:04.933648Z"
    },
    "collapsed": false,
    "deletable": true,
    "editable": true
   },
   "outputs": [
    {
     "data": {
      "text/plain": [
       "PyCmdMessenger.arduino.ArduinoBoard"
      ]
     },
     "execution_count": 36,
     "metadata": {},
     "output_type": "execute_result"
    }
   ],
   "source": [
    "type(arduino)"
   ]
  },
  {
   "cell_type": "code",
   "execution_count": 37,
   "metadata": {
    "ExecuteTime": {
     "end_time": "2017-08-01T10:45:43.919411Z",
     "start_time": "2017-08-01T10:45:43.890409Z"
    },
    "collapsed": true,
    "deletable": true,
    "editable": true
   },
   "outputs": [],
   "source": [
    "arduino.close()"
   ]
  },
  {
   "cell_type": "code",
   "execution_count": null,
   "metadata": {
    "collapsed": true
   },
   "outputs": [],
   "source": []
  }
 ],
 "metadata": {
  "kernelspec": {
   "display_name": "Python (3.6)",
   "language": "python",
   "name": "python3"
  },
  "language_info": {
   "codemirror_mode": {
    "name": "ipython",
    "version": 3
   },
   "file_extension": ".py",
   "mimetype": "text/x-python",
   "name": "python",
   "nbconvert_exporter": "python",
   "pygments_lexer": "ipython3",
   "version": "3.6.2"
  },
  "varInspector": {
   "cols": {
    "lenName": 16,
    "lenType": 16,
    "lenVar": 40
   },
   "kernels_config": {
    "python": {
     "delete_cmd_postfix": "",
     "delete_cmd_prefix": "del ",
     "library": "var_list.py",
     "varRefreshCmd": "print(var_dic_list())"
    },
    "r": {
     "delete_cmd_postfix": ") ",
     "delete_cmd_prefix": "rm(",
     "library": "var_list.r",
     "varRefreshCmd": "cat(var_dic_list()) "
    }
   },
   "types_to_exclude": [
    "module",
    "function",
    "builtin_function_or_method",
    "instance",
    "_Feature"
   ],
   "window_display": false
  }
 },
 "nbformat": 4,
 "nbformat_minor": 2
}
