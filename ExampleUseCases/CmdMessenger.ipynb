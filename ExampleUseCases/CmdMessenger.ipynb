{
 "cells": [
  {
   "cell_type": "code",
   "execution_count": 2,
   "metadata": {
    "ExecuteTime": {
     "end_time": "2017-06-30T17:18:07.019106Z",
     "start_time": "2017-06-30T17:18:07.005108Z"
    }
   },
   "outputs": [
    {
     "name": "stdout",
     "output_type": "stream",
     "text": [
      "The coconut extension is already loaded. To reload it, use:\n",
      "  %reload_ext coconut\n"
     ]
    }
   ],
   "source": [
    "%load_ext coconut\n",
    "# Coconut introduces nice functional macros and better map, filter, reduce, etc.\n",
    "import PyCmdMessenger\n",
    "from toolz.curried import *\n",
    "op = operator\n",
    "from copy import copy, deepcopy\n",
    "import sys\n",
    "\n",
    "from typing import *\n"
   ]
  },
  {
   "cell_type": "code",
   "execution_count": 3,
   "metadata": {
    "ExecuteTime": {
     "end_time": "2017-06-30T17:18:10.830232Z",
     "start_time": "2017-06-30T17:18:08.813151Z"
    }
   },
   "outputs": [
    {
     "name": "stdout",
     "output_type": "stream",
     "text": [
      "Connecting to arduino on COM3... done.\n"
     ]
    }
   ],
   "source": [
    "# Initialize an ArduinoBoard instance.  This is where you specify baud rate and\n",
    "# serial timeout.  If you are using a non ATmega328 board, you might also need\n",
    "# to set the data sizes (bytes for integers, longs, floats, and doubles).  \n",
    "arduino = PyCmdMessenger.ArduinoBoard(\"COM3\",baud_rate=115200, enable_dtr=False)\n",
    "\n",
    "# List of command names (and formats for their associated arguments). These must\n",
    "# be in the same order as in the sketch.\n",
    "commands = [[\"MotorOn\",\"ssi\"],\n",
    "            [\"MotorOff\",\"s\"],\n",
    "            [\"Status\",\"s*\"],\n",
    "            [\"kAck\",\"s*\"],\n",
    "            [\"kError\",\"s*\"],\n",
    "            [\"kLogging\", \"s*\"]]\n",
    "\n",
    "# Initialize the messenger\n",
    "c = PyCmdMessenger.CmdMessenger(arduino,commands)\n"
   ]
  },
  {
   "cell_type": "code",
   "execution_count": 4,
   "metadata": {
    "ExecuteTime": {
     "end_time": "2017-06-30T17:18:15.959332Z",
     "start_time": "2017-06-30T17:18:15.923333Z"
    },
    "collapsed": true
   },
   "outputs": [],
   "source": [
    "cmd = PyCmdMessenger\n",
    "def listen(Messenger: cmd.PyCmdMessenger.CmdMessenger, messageIdentifier) -> Any:\n",
    "    \"\"\" Listens for a specific type of response message\"\"\"\n",
    "    try:\n",
    "        assert any([messageIdentifier in command for command in Messenger.commands])\n",
    "        pass\n",
    "    except:\n",
    "        raise ValueError(\"Message identifier must be a valid command identifier for the Messenger\")\n",
    "    while 1:\n",
    "        message = Messenger.receive()\n",
    "        if message[0] == messageIdentifier:\n",
    "            return message\n",
    "        else:\n",
    "            continue\n",
    "\n",
    "def getLogs(Messenger: cmd.PyCmdMessenger.CmdMessenger) -> Text:\n",
    "    \"\"\"Yields the logs from the CmdMessenger\"\"\"\n",
    "    while True:\n",
    "        yield listen(Messenger, \"kLogging\")\n",
    "        \n",
    "def sendCommand(Messenger: cmd.PyCmdMessenger.CmdMessenger, messageIdentifier, *args) -> Any:\n",
    "    \"\"\"Sends a command and returns the response\"\"\"\n",
    "    Messenger.send(messageIdentifier, *args)\n",
    "    if messageIdentifier in [command for command in Messenger.commands]:\n",
    "        response = listen(Messenger, \"kAcknowledge\")\n",
    "    else:\n",
    "        response = listen(Messenger, \"kError\")\n",
    "    return response"
   ]
  },
  {
   "cell_type": "code",
   "execution_count": null,
   "metadata": {
    "ExecuteTime": {
     "end_time": "2017-06-30T17:08:35.332685Z",
     "start_time": "2017-06-30T17:08:35.318682Z"
    }
   },
   "outputs": [],
   "source": [
    "# Send\n",
    "# c.send(\"MotorOn\",\"A\", \"F\", 9999)\n",
    "c.send(\"Status\")\n",
    "# Receive. Should give [\"my_name_is\",[\"Bob\"],TIME_RECIEVED]\n",
    "msg = c.receive(arg_formats=\"s*\")\n",
    "print(msg)\n"
   ]
  },
  {
   "cell_type": "code",
   "execution_count": null,
   "metadata": {
    "ExecuteTime": {
     "end_time": "2017-06-30T17:08:56.650237Z",
     "start_time": "2017-06-30T17:08:56.640231Z"
    }
   },
   "outputs": [],
   "source": [
    "msg[1][::2]"
   ]
  },
  {
   "cell_type": "code",
   "execution_count": null,
   "metadata": {
    "ExecuteTime": {
     "end_time": "2017-06-30T16:11:29.745180Z",
     "start_time": "2017-06-30T16:11:29.711173Z"
    },
    "collapsed": true
   },
   "outputs": [],
   "source": [
    "arduino.close()"
   ]
  },
  {
   "cell_type": "code",
   "execution_count": 5,
   "metadata": {
    "ExecuteTime": {
     "end_time": "2017-06-30T17:18:28.510658Z",
     "start_time": "2017-06-30T17:18:27.117634Z"
    }
   },
   "outputs": [
    {
     "ename": "TypeError",
     "evalue": "'NoneType' object is not subscriptable",
     "output_type": "error",
     "traceback": [
      "\u001b[1;31m---------------------------------------------------------------------------\u001b[0m",
      "\u001b[1;31mTypeError\u001b[0m                                 Traceback (most recent call last)",
      "\u001b[1;32m<ipython-input-5-c872929eaae4>\u001b[0m in \u001b[0;36m<module>\u001b[1;34m()\u001b[0m\n\u001b[1;32m----> 1\u001b[1;33m \u001b[0mmsg\u001b[0m \u001b[1;33m=\u001b[0m \u001b[0msendCommand\u001b[0m\u001b[1;33m(\u001b[0m\u001b[0mc\u001b[0m\u001b[1;33m,\u001b[0m \u001b[1;34m\"Status\"\u001b[0m\u001b[1;33m)\u001b[0m\u001b[1;33m\u001b[0m\u001b[0m\n\u001b[0m",
      "\u001b[1;32m<ipython-input-4-1d6e227cc744>\u001b[0m in \u001b[0;36msendCommand\u001b[1;34m(Messenger, messageIdentifier, *args)\u001b[0m\n\u001b[0;32m     25\u001b[0m         \u001b[0mresponse\u001b[0m \u001b[1;33m=\u001b[0m \u001b[0mlisten\u001b[0m\u001b[1;33m(\u001b[0m\u001b[0mMessenger\u001b[0m\u001b[1;33m,\u001b[0m \u001b[1;34m\"kAcknowledge\"\u001b[0m\u001b[1;33m)\u001b[0m\u001b[1;33m\u001b[0m\u001b[0m\n\u001b[0;32m     26\u001b[0m     \u001b[1;32melse\u001b[0m\u001b[1;33m:\u001b[0m\u001b[1;33m\u001b[0m\u001b[0m\n\u001b[1;32m---> 27\u001b[1;33m         \u001b[0mresponse\u001b[0m \u001b[1;33m=\u001b[0m \u001b[0mlisten\u001b[0m\u001b[1;33m(\u001b[0m\u001b[0mMessenger\u001b[0m\u001b[1;33m,\u001b[0m \u001b[1;34m\"kError\"\u001b[0m\u001b[1;33m)\u001b[0m\u001b[1;33m\u001b[0m\u001b[0m\n\u001b[0m\u001b[0;32m     28\u001b[0m     \u001b[1;32mreturn\u001b[0m \u001b[0mresponse\u001b[0m\u001b[1;33m\u001b[0m\u001b[0m\n",
      "\u001b[1;32m<ipython-input-4-1d6e227cc744>\u001b[0m in \u001b[0;36mlisten\u001b[1;34m(Messenger, messageIdentifier)\u001b[0m\n\u001b[0;32m      9\u001b[0m     \u001b[1;32mwhile\u001b[0m \u001b[1;36m1\u001b[0m\u001b[1;33m:\u001b[0m\u001b[1;33m\u001b[0m\u001b[0m\n\u001b[0;32m     10\u001b[0m         \u001b[0mmessage\u001b[0m \u001b[1;33m=\u001b[0m \u001b[0mMessenger\u001b[0m\u001b[1;33m.\u001b[0m\u001b[0mreceive\u001b[0m\u001b[1;33m(\u001b[0m\u001b[1;33m)\u001b[0m\u001b[1;33m\u001b[0m\u001b[0m\n\u001b[1;32m---> 11\u001b[1;33m         \u001b[1;32mif\u001b[0m \u001b[0mmessage\u001b[0m\u001b[1;33m[\u001b[0m\u001b[1;36m0\u001b[0m\u001b[1;33m]\u001b[0m \u001b[1;33m==\u001b[0m \u001b[0mmessageIdentifier\u001b[0m\u001b[1;33m:\u001b[0m\u001b[1;33m\u001b[0m\u001b[0m\n\u001b[0m\u001b[0;32m     12\u001b[0m             \u001b[1;32mreturn\u001b[0m \u001b[0mmessage\u001b[0m\u001b[1;33m\u001b[0m\u001b[0m\n\u001b[0;32m     13\u001b[0m         \u001b[1;32melse\u001b[0m\u001b[1;33m:\u001b[0m\u001b[1;33m\u001b[0m\u001b[0m\n",
      "\u001b[1;31mTypeError\u001b[0m: 'NoneType' object is not subscriptable"
     ]
    }
   ],
   "source": [
    "msg = sendCommand(c, \"Status\")"
   ]
  },
  {
   "cell_type": "code",
   "execution_count": null,
   "metadata": {
    "ExecuteTime": {
     "end_time": "2017-06-30T17:15:51.335351Z",
     "start_time": "2017-06-30T17:14:57.013603Z"
    }
   },
   "outputs": [],
   "source": [
    "c.send(\"Status\")\n",
    "[c.receive() for x in range(100)]"
   ]
  },
  {
   "cell_type": "code",
   "execution_count": 7,
   "metadata": {
    "ExecuteTime": {
     "end_time": "2017-06-30T19:34:50.059665Z",
     "start_time": "2017-06-30T19:34:49.978663Z"
    }
   },
   "outputs": [],
   "source": [
    "arduino.close()"
   ]
  }
 ],
 "metadata": {
  "kernelspec": {
   "display_name": "Python (3.6)",
   "language": "python",
   "name": "python3"
  },
  "language_info": {
   "codemirror_mode": {
    "name": "ipython",
    "version": 3
   },
   "file_extension": ".py",
   "mimetype": "text/x-python",
   "name": "python",
   "nbconvert_exporter": "python",
   "pygments_lexer": "ipython3",
   "version": "3.6.1"
  },
  "varInspector": {
   "cols": {
    "lenName": 16,
    "lenType": 16,
    "lenVar": 40
   },
   "kernels_config": {
    "python": {
     "delete_cmd_postfix": "",
     "delete_cmd_prefix": "del ",
     "library": "var_list.py",
     "varRefreshCmd": "print(var_dic_list())"
    },
    "r": {
     "delete_cmd_postfix": ") ",
     "delete_cmd_prefix": "rm(",
     "library": "var_list.r",
     "varRefreshCmd": "cat(var_dic_list()) "
    }
   },
   "types_to_exclude": [
    "module",
    "function",
    "builtin_function_or_method",
    "instance",
    "_Feature"
   ],
   "window_display": false
  }
 },
 "nbformat": 4,
 "nbformat_minor": 2
}
