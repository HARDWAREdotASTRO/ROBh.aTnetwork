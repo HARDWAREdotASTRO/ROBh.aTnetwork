{
 "cells": [
  {
   "cell_type": "code",
   "execution_count": 1,
   "metadata": {
    "ExecuteTime": {
     "end_time": "2017-08-08T13:51:32.352172Z",
     "start_time": "2017-08-08T13:51:32.347172Z"
    }
   },
   "outputs": [],
   "source": [
    "import configparser"
   ]
  },
  {
   "cell_type": "code",
   "execution_count": 16,
   "metadata": {
    "ExecuteTime": {
     "end_time": "2017-08-08T13:50:54.637195Z",
     "start_time": "2017-08-08T13:50:54.626197Z"
    }
   },
   "outputs": [
    {
     "data": {
      "text/plain": [
       "['sample.config']"
      ]
     },
     "execution_count": 16,
     "metadata": {},
     "output_type": "execute_result"
    }
   ],
   "source": [
    "config= configparser.ConfigParser()\n",
    "config.read(r\"sample.config\")"
   ]
  },
  {
   "cell_type": "code",
   "execution_count": 7,
   "metadata": {
    "ExecuteTime": {
     "end_time": "2017-08-08T13:49:46.434432Z",
     "start_time": "2017-08-08T13:49:46.422432Z"
    }
   },
   "outputs": [
    {
     "data": {
      "text/plain": [
       "['BOOLEAN_STATES',\n",
       " 'NONSPACECRE',\n",
       " 'OPTCRE',\n",
       " 'OPTCRE_NV',\n",
       " 'SECTCRE',\n",
       " '_DEFAULT_INTERPOLATION',\n",
       " '_MutableMapping__marker',\n",
       " '_OPT_NV_TMPL',\n",
       " '_OPT_TMPL',\n",
       " '_SECT_TMPL',\n",
       " '__abstractmethods__',\n",
       " '__class__',\n",
       " '__contains__',\n",
       " '__delattr__',\n",
       " '__delitem__',\n",
       " '__dict__',\n",
       " '__dir__',\n",
       " '__doc__',\n",
       " '__eq__',\n",
       " '__format__',\n",
       " '__ge__',\n",
       " '__getattribute__',\n",
       " '__getitem__',\n",
       " '__gt__',\n",
       " '__hash__',\n",
       " '__init__',\n",
       " '__init_subclass__',\n",
       " '__iter__',\n",
       " '__le__',\n",
       " '__len__',\n",
       " '__lt__',\n",
       " '__module__',\n",
       " '__ne__',\n",
       " '__new__',\n",
       " '__reduce__',\n",
       " '__reduce_ex__',\n",
       " '__repr__',\n",
       " '__reversed__',\n",
       " '__setattr__',\n",
       " '__setitem__',\n",
       " '__sizeof__',\n",
       " '__slots__',\n",
       " '__str__',\n",
       " '__subclasshook__',\n",
       " '__weakref__',\n",
       " '_abc_cache',\n",
       " '_abc_negative_cache',\n",
       " '_abc_negative_cache_version',\n",
       " '_abc_registry',\n",
       " '_allow_no_value',\n",
       " '_comment_prefixes',\n",
       " '_convert_to_boolean',\n",
       " '_converters',\n",
       " '_defaults',\n",
       " '_delimiters',\n",
       " '_dict',\n",
       " '_empty_lines_in_values',\n",
       " '_get',\n",
       " '_get_conv',\n",
       " '_handle_error',\n",
       " '_inline_comment_prefixes',\n",
       " '_interpolation',\n",
       " '_join_multiline_values',\n",
       " '_optcre',\n",
       " '_proxies',\n",
       " '_read',\n",
       " '_sections',\n",
       " '_strict',\n",
       " '_unify_values',\n",
       " '_validate_value_types',\n",
       " '_write_section',\n",
       " 'add_section',\n",
       " 'clear',\n",
       " 'converters',\n",
       " 'default_section',\n",
       " 'defaults',\n",
       " 'get',\n",
       " 'getboolean',\n",
       " 'getfloat',\n",
       " 'getint',\n",
       " 'has_option',\n",
       " 'has_section',\n",
       " 'items',\n",
       " 'keys',\n",
       " 'options',\n",
       " 'optionxform',\n",
       " 'pop',\n",
       " 'popitem',\n",
       " 'read',\n",
       " 'read_dict',\n",
       " 'read_file',\n",
       " 'read_string',\n",
       " 'readfp',\n",
       " 'remove_option',\n",
       " 'remove_section',\n",
       " 'sections',\n",
       " 'set',\n",
       " 'setdefault',\n",
       " 'update',\n",
       " 'values',\n",
       " 'write']"
      ]
     },
     "execution_count": 7,
     "metadata": {},
     "output_type": "execute_result"
    }
   ],
   "source": [
    "dir(config)"
   ]
  },
  {
   "cell_type": "code",
   "execution_count": 17,
   "metadata": {
    "ExecuteTime": {
     "end_time": "2017-08-08T13:50:03.574878Z",
     "start_time": "2017-08-08T13:50:03.565883Z"
    }
   },
   "outputs": [
    {
     "data": {
      "text/plain": [
       "'/dev/ttyACM0'"
      ]
     },
     "execution_count": 17,
     "metadata": {},
     "output_type": "execute_result"
    }
   ],
   "source": [
    "config[\"DEFAULT\"][\"SerialPort\"]"
   ]
  },
  {
   "cell_type": "code",
   "execution_count": 18,
   "metadata": {
    "collapsed": true
   },
   "outputs": [],
   "source": [
    "from toolz.curried import merge\n",
    "from typing import Text, Union, Dict\n",
    "def readConfig(configFile: Text=\"./.config\") -> Dict[Text, Union[Text, float, int]]:\n",
    "    \"\"\"\n",
    "    Reads a configuration file.\n",
    "\n",
    "    Args:\n",
    "        configFile (Text): Path to the configuration file of which to parse\n",
    "\n",
    "    Returns:\n",
    "        Returns a dictionary containing the fields of the config file,\n",
    "        with some special paramaters extracted from the raw text.\n",
    "    \"\"\"\n",
    "    config = configparser.ConfigParser()\n",
    "    config.optionxform = str\n",
    "    config.read(configFile)\n",
    "    settings = dict()\n",
    "    settings[\"SerialPort\"] = config[\"DEFAULT\"][\"SerialPort\"]\n",
    "    settings[\"PollTime\"] = int(config[\"DEFAULT\"][\"PollTime\"])\n",
    "    settings[\"BaudRate\"] = int(config[\"DEFAULT\"][\"BaudRate\"])\n",
    "    settings = merge(dict(config[\"DEFAULT\"].items()), settings)\n",
    "    return settings"
   ]
  },
  {
   "cell_type": "code",
   "execution_count": 19,
   "metadata": {},
   "outputs": [
    {
     "data": {
      "text/plain": [
       "{'BaudRate': 115200, 'PollTime': 1000, 'SerialPort': '/dev/ttyACM0'}"
      ]
     },
     "execution_count": 19,
     "metadata": {},
     "output_type": "execute_result"
    }
   ],
   "source": [
    "readConfig(\"sample.config\")"
   ]
  },
  {
   "cell_type": "code",
   "execution_count": null,
   "metadata": {
    "collapsed": true
   },
   "outputs": [],
   "source": []
  }
 ],
 "metadata": {
  "kernelspec": {
   "display_name": "Python 3",
   "language": "python",
   "name": "python3"
  },
  "language_info": {
   "codemirror_mode": {
    "name": "ipython",
    "version": 3
   },
   "file_extension": ".py",
   "mimetype": "text/x-python",
   "name": "python",
   "nbconvert_exporter": "python",
   "pygments_lexer": "ipython3",
   "version": "3.6.2"
  },
  "varInspector": {
   "cols": {
    "lenName": 16,
    "lenType": 16,
    "lenVar": 40
   },
   "kernels_config": {
    "python": {
     "delete_cmd_postfix": "",
     "delete_cmd_prefix": "del ",
     "library": "var_list.py",
     "varRefreshCmd": "print(var_dic_list())"
    },
    "r": {
     "delete_cmd_postfix": ") ",
     "delete_cmd_prefix": "rm(",
     "library": "var_list.r",
     "varRefreshCmd": "cat(var_dic_list()) "
    }
   },
   "types_to_exclude": [
    "module",
    "function",
    "builtin_function_or_method",
    "instance",
    "_Feature"
   ],
   "window_display": false
  }
 },
 "nbformat": 4,
 "nbformat_minor": 2
}
